{
 "cells": [
  {
   "cell_type": "code",
   "execution_count": 1,
   "metadata": {},
   "outputs": [
    {
     "name": "stderr",
     "output_type": "stream",
     "text": [
      "C:\\Users\\vedica\\Anaconda3\\envs\\project\\lib\\site-packages\\tensorflow\\python\\framework\\dtypes.py:516: FutureWarning: Passing (type, 1) or '1type' as a synonym of type is deprecated; in a future version of numpy, it will be understood as (type, (1,)) / '(1,)type'.\n",
      "  _np_qint8 = np.dtype([(\"qint8\", np.int8, 1)])\n",
      "C:\\Users\\vedica\\Anaconda3\\envs\\project\\lib\\site-packages\\tensorflow\\python\\framework\\dtypes.py:517: FutureWarning: Passing (type, 1) or '1type' as a synonym of type is deprecated; in a future version of numpy, it will be understood as (type, (1,)) / '(1,)type'.\n",
      "  _np_quint8 = np.dtype([(\"quint8\", np.uint8, 1)])\n",
      "C:\\Users\\vedica\\Anaconda3\\envs\\project\\lib\\site-packages\\tensorflow\\python\\framework\\dtypes.py:518: FutureWarning: Passing (type, 1) or '1type' as a synonym of type is deprecated; in a future version of numpy, it will be understood as (type, (1,)) / '(1,)type'.\n",
      "  _np_qint16 = np.dtype([(\"qint16\", np.int16, 1)])\n",
      "C:\\Users\\vedica\\Anaconda3\\envs\\project\\lib\\site-packages\\tensorflow\\python\\framework\\dtypes.py:519: FutureWarning: Passing (type, 1) or '1type' as a synonym of type is deprecated; in a future version of numpy, it will be understood as (type, (1,)) / '(1,)type'.\n",
      "  _np_quint16 = np.dtype([(\"quint16\", np.uint16, 1)])\n",
      "C:\\Users\\vedica\\Anaconda3\\envs\\project\\lib\\site-packages\\tensorflow\\python\\framework\\dtypes.py:520: FutureWarning: Passing (type, 1) or '1type' as a synonym of type is deprecated; in a future version of numpy, it will be understood as (type, (1,)) / '(1,)type'.\n",
      "  _np_qint32 = np.dtype([(\"qint32\", np.int32, 1)])\n",
      "C:\\Users\\vedica\\Anaconda3\\envs\\project\\lib\\site-packages\\tensorflow\\python\\framework\\dtypes.py:525: FutureWarning: Passing (type, 1) or '1type' as a synonym of type is deprecated; in a future version of numpy, it will be understood as (type, (1,)) / '(1,)type'.\n",
      "  np_resource = np.dtype([(\"resource\", np.ubyte, 1)])\n",
      "C:\\Users\\vedica\\Anaconda3\\envs\\project\\lib\\site-packages\\tensorboard\\compat\\tensorflow_stub\\dtypes.py:541: FutureWarning: Passing (type, 1) or '1type' as a synonym of type is deprecated; in a future version of numpy, it will be understood as (type, (1,)) / '(1,)type'.\n",
      "  _np_qint8 = np.dtype([(\"qint8\", np.int8, 1)])\n",
      "C:\\Users\\vedica\\Anaconda3\\envs\\project\\lib\\site-packages\\tensorboard\\compat\\tensorflow_stub\\dtypes.py:542: FutureWarning: Passing (type, 1) or '1type' as a synonym of type is deprecated; in a future version of numpy, it will be understood as (type, (1,)) / '(1,)type'.\n",
      "  _np_quint8 = np.dtype([(\"quint8\", np.uint8, 1)])\n",
      "C:\\Users\\vedica\\Anaconda3\\envs\\project\\lib\\site-packages\\tensorboard\\compat\\tensorflow_stub\\dtypes.py:543: FutureWarning: Passing (type, 1) or '1type' as a synonym of type is deprecated; in a future version of numpy, it will be understood as (type, (1,)) / '(1,)type'.\n",
      "  _np_qint16 = np.dtype([(\"qint16\", np.int16, 1)])\n",
      "C:\\Users\\vedica\\Anaconda3\\envs\\project\\lib\\site-packages\\tensorboard\\compat\\tensorflow_stub\\dtypes.py:544: FutureWarning: Passing (type, 1) or '1type' as a synonym of type is deprecated; in a future version of numpy, it will be understood as (type, (1,)) / '(1,)type'.\n",
      "  _np_quint16 = np.dtype([(\"quint16\", np.uint16, 1)])\n",
      "C:\\Users\\vedica\\Anaconda3\\envs\\project\\lib\\site-packages\\tensorboard\\compat\\tensorflow_stub\\dtypes.py:545: FutureWarning: Passing (type, 1) or '1type' as a synonym of type is deprecated; in a future version of numpy, it will be understood as (type, (1,)) / '(1,)type'.\n",
      "  _np_qint32 = np.dtype([(\"qint32\", np.int32, 1)])\n",
      "C:\\Users\\vedica\\Anaconda3\\envs\\project\\lib\\site-packages\\tensorboard\\compat\\tensorflow_stub\\dtypes.py:550: FutureWarning: Passing (type, 1) or '1type' as a synonym of type is deprecated; in a future version of numpy, it will be understood as (type, (1,)) / '(1,)type'.\n",
      "  np_resource = np.dtype([(\"resource\", np.ubyte, 1)])\n"
     ]
    }
   ],
   "source": [
    "import csv\n",
    "import tensorflow as tf\n",
    "import numpy as np\n",
    "from tensorflow.keras.preprocessing.text import Tokenizer\n",
    "from tensorflow.keras.preprocessing.sequence import pad_sequences"
   ]
  },
  {
   "cell_type": "code",
   "execution_count": 2,
   "metadata": {},
   "outputs": [],
   "source": [
    "vocab_size = 10000\n",
    "embedding_dim = 16\n",
    "max_length = 25\n",
    "trunc_type = 'post'\n",
    "padding_type = 'post'\n",
    "oov_tok = '<OOV>'\n",
    "training_portion = 0.8"
   ]
  },
  {
   "cell_type": "code",
   "execution_count": 3,
   "metadata": {},
   "outputs": [
    {
     "name": "stdout",
     "output_type": "stream",
     "text": [
      "153\n"
     ]
    }
   ],
   "source": [
    "sentences = []\n",
    "labels = []\n",
    "stopwords = [ \"a\", \"about\", \"above\", \"after\", \"again\", \"against\", \"all\", \"am\", \"an\", \"and\", \"any\", \"are\", \"as\", \"at\", \"be\", \"because\", \"been\", \"before\", \"being\", \"below\", \"between\", \"both\", \"but\", \"by\", \"could\", \"did\", \"do\", \"does\", \"doing\", \"down\", \"during\", \"each\", \"few\", \"for\", \"from\", \"further\", \"had\", \"has\", \"have\", \"having\", \"he\", \"he'd\", \"he'll\", \"he's\", \"her\", \"here\", \"here's\", \"hers\", \"herself\", \"him\", \"himself\", \"his\", \"how\", \"how's\", \"i\", \"i'd\", \"i'll\", \"i'm\", \"i've\", \"if\", \"in\", \"into\", \"is\", \"it\", \"it's\", \"its\", \"itself\", \"let's\", \"me\", \"more\", \"most\", \"my\", \"myself\", \"nor\", \"of\", \"on\", \"once\", \"only\", \"or\", \"other\", \"ought\", \"our\", \"ours\", \"ourselves\", \"out\", \"over\", \"own\", \"same\", \"she\", \"she'd\", \"she'll\", \"she's\", \"should\", \"so\", \"some\", \"such\", \"than\", \"that\", \"that's\", \"the\", \"their\", \"theirs\", \"them\", \"themselves\", \"then\", \"there\", \"there's\", \"these\", \"they\", \"they'd\", \"they'll\", \"they're\", \"they've\", \"this\", \"those\", \"through\", \"to\", \"too\", \"under\", \"until\", \"up\", \"very\", \"was\", \"we\", \"we'd\", \"we'll\", \"we're\", \"we've\", \"were\", \"what\", \"what's\", \"when\", \"when's\", \"where\", \"where's\", \"which\", \"while\", \"who\", \"who's\", \"whom\", \"why\", \"why's\", \"with\", \"would\", \"you\", \"you'd\", \"you'll\", \"you're\", \"you've\", \"your\", \"yours\", \"yourself\", \"yourselves\" ]\n",
    "print(len(stopwords))"
   ]
  },
  {
   "cell_type": "code",
   "execution_count": 4,
   "metadata": {},
   "outputs": [
    {
     "name": "stdout",
     "output_type": "stream",
     "text": [
      "2000\n",
      "2000\n",
      "which award received konrad lorenz time?\n"
     ]
    }
   ],
   "source": [
    "with open(\"C:/Users/vedica/Downloads/BERT-20200915T170230Z-001/BERT/Datasets/training_set.csv\", 'r', encoding=\"utf-8\") as csvfile:\n",
    "  reader = csv.reader(csvfile, delimiter=',')\n",
    "  next(reader)\n",
    "  for row in reader:\n",
    "    labels.append(row[1])\n",
    "    sentence = row[0]\n",
    "    for word in stopwords:\n",
    "      token = \" \" + word + \" \"\n",
    "      sentence = sentence.replace(token, \" \")\n",
    "    sentences.append(sentence)\n",
    "\n",
    "print(len(labels))\n",
    "print(len(sentences))\n",
    "print(sentences[0])"
   ]
  },
  {
   "cell_type": "code",
   "execution_count": 5,
   "metadata": {},
   "outputs": [
    {
     "name": "stdout",
     "output_type": "stream",
     "text": [
      "1600\n",
      "1600\n",
      "1600\n",
      "400\n",
      "400\n"
     ]
    }
   ],
   "source": [
    "train_size = int(training_portion * len(labels))\n",
    "\n",
    "train_sentences = sentences[:train_size]\n",
    "train_labels = labels[:train_size]\n",
    "\n",
    "validation_sentences = sentences[train_size:]\n",
    "validation_labels = labels[train_size:]\n",
    "\n",
    "print(train_size)\n",
    "print(len(train_sentences))\n",
    "print(len(train_labels))\n",
    "print(len(validation_sentences))\n",
    "print(len(validation_labels))"
   ]
  },
  {
   "cell_type": "code",
   "execution_count": 6,
   "metadata": {},
   "outputs": [
    {
     "name": "stdout",
     "output_type": "stream",
     "text": [
      "6\n",
      "25\n",
      "11\n",
      "25\n",
      "8\n",
      "25\n"
     ]
    }
   ],
   "source": [
    "tokenizer = Tokenizer(num_words = vocab_size, oov_token = oov_tok)\n",
    "tokenizer.fit_on_texts(train_sentences)\n",
    "word_index = tokenizer.word_index\n",
    "\n",
    "train_sequences = tokenizer.texts_to_sequences(train_sentences)\n",
    "train_padded = pad_sequences(train_sequences, padding=padding_type, maxlen=max_length)\n",
    "\n",
    "print(len(train_sequences[0]))\n",
    "print(len(train_padded[0]))\n",
    "\n",
    "print(len(train_sequences[1]))\n",
    "print(len(train_padded[1]))\n",
    "\n",
    "print(len(train_sequences[10]))\n",
    "print(len(train_padded[10]))"
   ]
  },
  {
   "cell_type": "code",
   "execution_count": 7,
   "metadata": {},
   "outputs": [
    {
     "name": "stdout",
     "output_type": "stream",
     "text": [
      "400\n",
      "(400, 25)\n"
     ]
    }
   ],
   "source": [
    "validation_sequences = tokenizer.texts_to_sequences(validation_sentences)\n",
    "validation_padded = pad_sequences(validation_sequences, padding = padding_type, maxlen=max_length)\n",
    "\n",
    "print(len(validation_labels))\n",
    "print(validation_padded.shape)"
   ]
  },
  {
   "cell_type": "code",
   "execution_count": 8,
   "metadata": {},
   "outputs": [],
   "source": [
    "label_tokenizer = Tokenizer()\n",
    "label_tokenizer.fit_on_texts(labels)\n",
    "\n",
    "training_label_seq = np.array(label_tokenizer.texts_to_sequences(train_labels))\n",
    "validation_label_seq = np.array(label_tokenizer.texts_to_sequences(validation_labels))"
   ]
  },
  {
   "cell_type": "code",
   "execution_count": 9,
   "metadata": {},
   "outputs": [
    {
     "name": "stdout",
     "output_type": "stream",
     "text": [
      "Model: \"sequential\"\n",
      "_________________________________________________________________\n",
      "Layer (type)                 Output Shape              Param #   \n",
      "=================================================================\n",
      "embedding (Embedding)        (None, 25, 16)            160000    \n",
      "_________________________________________________________________\n",
      "global_average_pooling1d (Gl (None, 16)                0         \n",
      "_________________________________________________________________\n",
      "dense (Dense)                (None, 32)                544       \n",
      "_________________________________________________________________\n",
      "dense_1 (Dense)              (None, 9)                 297       \n",
      "=================================================================\n",
      "Total params: 160,841\n",
      "Trainable params: 160,841\n",
      "Non-trainable params: 0\n",
      "_________________________________________________________________\n"
     ]
    }
   ],
   "source": [
    "model = tf.keras.Sequential([\n",
    "                             tf.keras.layers.Embedding(vocab_size, embedding_dim, input_length=max_length),\n",
    "                             tf.keras.layers.GlobalAveragePooling1D(),\n",
    "                             tf.keras.layers.Dense(32, activation='relu'),\n",
    "                             tf.keras.layers.Dense(9, activation='softmax')\n",
    "])\n",
    "\n",
    "model.compile(loss='sparse_categorical_crossentropy', optimizer='adam', metrics=['accuracy'])\n",
    "model.summary()"
   ]
  },
  {
   "cell_type": "code",
   "execution_count": 10,
   "metadata": {},
   "outputs": [
    {
     "name": "stdout",
     "output_type": "stream",
     "text": [
      "WARNING:tensorflow:From C:\\Users\\vedica\\Anaconda3\\envs\\project\\lib\\site-packages\\tensorflow\\python\\ops\\math_grad.py:1250: add_dispatch_support.<locals>.wrapper (from tensorflow.python.ops.array_ops) is deprecated and will be removed in a future version.\n",
      "Instructions for updating:\n",
      "Use tf.where in 2.0, which has the same broadcast rule as np.where\n",
      "Train on 1600 samples, validate on 400 samples\n",
      "Epoch 1/20\n",
      "1600/1600 - 2s - loss: 2.1694 - accuracy: 0.1631 - val_loss: 2.1413 - val_accuracy: 0.1600\n",
      "Epoch 2/20\n",
      "1600/1600 - 0s - loss: 2.1102 - accuracy: 0.1631 - val_loss: 2.0768 - val_accuracy: 0.1600\n",
      "Epoch 3/20\n",
      "1600/1600 - 0s - loss: 2.0541 - accuracy: 0.1631 - val_loss: 2.0319 - val_accuracy: 0.1600\n",
      "Epoch 4/20\n",
      "1600/1600 - 0s - loss: 2.0165 - accuracy: 0.2319 - val_loss: 2.0021 - val_accuracy: 0.1650\n",
      "Epoch 5/20\n",
      "1600/1600 - 0s - loss: 1.9803 - accuracy: 0.3013 - val_loss: 1.9732 - val_accuracy: 0.3500\n",
      "Epoch 6/20\n",
      "1600/1600 - 0s - loss: 1.9324 - accuracy: 0.4631 - val_loss: 1.9330 - val_accuracy: 0.4175\n",
      "Epoch 7/20\n",
      "1600/1600 - 0s - loss: 1.8655 - accuracy: 0.5575 - val_loss: 1.8745 - val_accuracy: 0.4775\n",
      "Epoch 8/20\n",
      "1600/1600 - 0s - loss: 1.7663 - accuracy: 0.5987 - val_loss: 1.7885 - val_accuracy: 0.5600\n",
      "Epoch 9/20\n",
      "1600/1600 - 0s - loss: 1.6329 - accuracy: 0.6131 - val_loss: 1.6768 - val_accuracy: 0.5725\n",
      "Epoch 10/20\n",
      "1600/1600 - 0s - loss: 1.4677 - accuracy: 0.6181 - val_loss: 1.5420 - val_accuracy: 0.5725\n",
      "Epoch 11/20\n",
      "1600/1600 - 0s - loss: 1.2798 - accuracy: 0.6356 - val_loss: 1.3909 - val_accuracy: 0.5875\n",
      "Epoch 12/20\n",
      "1600/1600 - 0s - loss: 1.0996 - accuracy: 0.7000 - val_loss: 1.2607 - val_accuracy: 0.6800\n",
      "Epoch 13/20\n",
      "1600/1600 - 0s - loss: 0.9357 - accuracy: 0.7800 - val_loss: 1.1482 - val_accuracy: 0.7175\n",
      "Epoch 14/20\n",
      "1600/1600 - 0s - loss: 0.7954 - accuracy: 0.8144 - val_loss: 1.0571 - val_accuracy: 0.7525\n",
      "Epoch 15/20\n",
      "1600/1600 - 0s - loss: 0.6785 - accuracy: 0.8494 - val_loss: 0.9755 - val_accuracy: 0.7625\n",
      "Epoch 16/20\n",
      "1600/1600 - 0s - loss: 0.5825 - accuracy: 0.8669 - val_loss: 0.9195 - val_accuracy: 0.7575\n",
      "Epoch 17/20\n",
      "1600/1600 - 0s - loss: 0.5057 - accuracy: 0.8831 - val_loss: 0.8694 - val_accuracy: 0.7700\n",
      "Epoch 18/20\n",
      "1600/1600 - 0s - loss: 0.4410 - accuracy: 0.8894 - val_loss: 0.8362 - val_accuracy: 0.7750\n",
      "Epoch 19/20\n",
      "1600/1600 - 0s - loss: 0.3890 - accuracy: 0.9000 - val_loss: 0.7948 - val_accuracy: 0.7775\n",
      "Epoch 20/20\n",
      "1600/1600 - 0s - loss: 0.3465 - accuracy: 0.9300 - val_loss: 0.7650 - val_accuracy: 0.7825\n"
     ]
    }
   ],
   "source": [
    "num_epochs = 20\n",
    "history = model.fit(train_padded, training_label_seq, epochs = num_epochs, validation_data=(validation_padded, validation_label_seq), verbose=2)"
   ]
  },
  {
   "cell_type": "code",
   "execution_count": 11,
   "metadata": {},
   "outputs": [
    {
     "data": {
      "image/png": "[encoded data removed]",
      "text/plain": [
       "<Figure size 432x288 with 1 Axes>"
      ]
     },
     "metadata": {
      "needs_background": "light"
     },
     "output_type": "display_data"
    },
    {
     "data": {
      "image/png": "[encoded data removed]",
      "text/plain": [
       "<Figure size 432x288 with 1 Axes>"
      ]
     },
     "metadata": {
      "needs_background": "light"
     },
     "output_type": "display_data"
    }
   ],
   "source": [
    "import matplotlib.pyplot as plt\n",
    "\n",
    "\n",
    "def plot_graphs(history, string):\n",
    "  plt.plot(history.history[string])\n",
    "  plt.plot(history.history['val_'+string])\n",
    "  plt.xlabel(\"Epochs\")\n",
    "  plt.ylabel(string)\n",
    "  plt.legend([string, 'val_'+string])\n",
    "  plt.show()\n",
    "  \n",
    "plot_graphs(history, \"accuracy\")\n",
    "plot_graphs(history, \"loss\")"
   ]
  },
  {
   "cell_type": "code",
   "execution_count": 12,
   "metadata": {},
   "outputs": [
    {
     "data": {
      "text/plain": [
       "array([[1.47782603e-05, 2.95986850e-02, 1.90238049e-03, 9.03866068e-03,\n",
       "        8.23173344e-01, 1.19197723e-02, 1.90858648e-03, 3.81520949e-02,\n",
       "        8.42916146e-02],\n",
       "       [6.54761971e-05, 1.78221241e-02, 4.39858399e-02, 1.32919014e-01,\n",
       "        6.57425001e-02, 3.89941096e-01, 1.12982295e-01, 7.41534606e-02,\n",
       "        1.62388191e-01],\n",
       "       [8.86890484e-05, 3.88331799e-04, 1.10384161e-02, 1.39599696e-01,\n",
       "        2.00949726e-03, 3.89914364e-01, 3.76322746e-01, 6.07854426e-02,\n",
       "        1.98529009e-02],\n",
       "       [8.72583914e-05, 1.31129876e-01, 4.31235999e-01, 8.18960443e-02,\n",
       "        1.68962236e-02, 1.49139300e-01, 4.59107868e-02, 6.61057932e-03,\n",
       "        1.37093946e-01],\n",
       "       [1.02089522e-04, 3.73922230e-04, 1.09517826e-02, 1.00676768e-01,\n",
       "        2.99101113e-03, 3.93558681e-01, 3.90941083e-01, 7.83827305e-02,\n",
       "        2.20220424e-02],\n",
       "       [2.93175890e-06, 8.89293075e-01, 3.38546708e-02, 4.83630272e-03,\n",
       "        3.20716091e-02, 1.78426714e-03, 1.49450134e-04, 2.65779585e-04,\n",
       "        3.77418622e-02],\n",
       "       [1.07164205e-05, 5.50159030e-02, 4.58854809e-03, 8.33434518e-03,\n",
       "        7.99827456e-01, 1.31878685e-02, 1.80350756e-03, 2.12579705e-02,\n",
       "        9.59737077e-02],\n",
       "       [2.73229557e-06, 9.58518088e-01, 1.23414537e-02, 9.30294860e-04,\n",
       "        8.00741930e-03, 3.78989702e-04, 2.84686230e-05, 8.13940715e-05,\n",
       "        1.97111424e-02],\n",
       "       [5.90601994e-05, 1.87565923e-01, 4.15376037e-01, 2.63935402e-02,\n",
       "        1.93595365e-02, 1.05297349e-01, 2.40909960e-02, 3.82107287e-03,\n",
       "        2.18036532e-01],\n",
       "       [1.05185836e-05, 2.54476443e-03, 4.27173963e-03, 9.34711635e-01,\n",
       "        2.92191678e-03, 2.73185112e-02, 1.72539316e-02, 6.16337731e-03,\n",
       "        4.80371621e-03],\n",
       "       [7.07108338e-05, 2.61952030e-03, 4.18860763e-01, 2.59326175e-02,\n",
       "        4.07030137e-04, 2.93175280e-01, 2.34682918e-01, 2.41991365e-03,\n",
       "        2.18311921e-02],\n",
       "       [7.43114579e-05, 6.38063699e-02, 4.79753837e-02, 4.85916324e-02,\n",
       "        8.28818604e-02, 2.38211602e-01, 4.87832800e-02, 5.69982491e-02,\n",
       "        4.12677348e-01],\n",
       "       [6.21008530e-06, 1.92540046e-02, 9.12387967e-01, 8.56827572e-03,\n",
       "        3.16755904e-04, 3.54457833e-02, 1.20957373e-02, 7.27789520e-05,\n",
       "        1.18524106e-02],\n",
       "       [8.41050132e-05, 7.41438894e-03, 4.50051688e-02, 8.93950909e-02,\n",
       "        1.61778964e-02, 4.76630777e-01, 1.79071590e-01, 5.52764013e-02,\n",
       "        1.30944565e-01],\n",
       "       [2.97977349e-05, 1.14408553e-01, 1.81949046e-02, 1.91525202e-02,\n",
       "        6.05019689e-01, 3.31132784e-02, 5.24956593e-03, 2.69128010e-02,\n",
       "        1.77919030e-01],\n",
       "       [1.97178761e-05, 9.13107768e-02, 8.13152734e-03, 1.86725091e-02,\n",
       "        6.78053975e-01, 2.25362275e-02, 3.34183150e-03, 2.89966743e-02,\n",
       "        1.48936763e-01],\n",
       "       [7.49871742e-06, 8.58758017e-03, 9.37144578e-01, 4.99500660e-03,\n",
       "        1.67092439e-04, 3.01227532e-02, 1.27846552e-02, 4.91643113e-05,\n",
       "        6.14144141e-03],\n",
       "       [1.52897137e-05, 4.58167382e-02, 9.23168421e-01, 4.42979066e-03,\n",
       "        3.61800572e-04, 1.24178445e-02, 4.18062927e-03, 3.92471156e-05,\n",
       "        9.57014039e-03],\n",
       "       [1.20334025e-05, 7.25675285e-01, 1.58295855e-01, 2.53703669e-02,\n",
       "        2.04001851e-02, 1.01990290e-02, 1.38970406e-03, 6.08275237e-04,\n",
       "        5.80492578e-02],\n",
       "       [2.64786504e-04, 7.42824574e-04, 9.92414076e-03, 1.00365259e-01,\n",
       "        5.08726900e-03, 3.97062570e-01, 3.27209681e-01, 1.23312175e-01,\n",
       "        3.60313244e-02]], dtype=float32)"
      ]
     },
     "execution_count": 12,
     "metadata": {},
     "output_type": "execute_result"
    }
   ],
   "source": [
    "model.predict(validation_padded[0:20])"
   ]
  },
  {
   "cell_type": "code",
   "execution_count": 13,
   "metadata": {},
   "outputs": [
    {
     "data": {
      "text/plain": [
       "array([[4],\n",
       "       [5],\n",
       "       [6],\n",
       "       [2],\n",
       "       [6],\n",
       "       [1],\n",
       "       [4],\n",
       "       [1],\n",
       "       [2],\n",
       "       [3]])"
      ]
     },
     "execution_count": 13,
     "metadata": {},
     "output_type": "execute_result"
    }
   ],
   "source": [
    "validation_label_seq[0:10]"
   ]
  },
  {
   "cell_type": "code",
   "execution_count": 14,
   "metadata": {},
   "outputs": [
    {
     "data": {
      "text/plain": [
       "['4', '0', '6', '2', '7', '2', '5', '4', '2', '7']"
      ]
     },
     "execution_count": 14,
     "metadata": {},
     "output_type": "execute_result"
    }
   ],
   "source": [
    "train_labels[0:10]"
   ]
  },
  {
   "cell_type": "code",
   "execution_count": 15,
   "metadata": {},
   "outputs": [
    {
     "name": "stdout",
     "output_type": "stream",
     "text": [
      "1/1 [==============================] - 0s 41ms/sample - loss: 0.1946 - accuracy: 1.0000\n",
      "Test score: 0.19458848237991333\n",
      "Test accuracy: 1.0\n"
     ]
    }
   ],
   "source": [
    "score, acc = model.evaluate(validation_padded[0:1], validation_label_seq[0:1])\n",
    "print('Test score:', score)\n",
    "print('Test accuracy:', acc)\n",
    "\n"
   ]
  },
  {
   "cell_type": "code",
   "execution_count": 20,
   "metadata": {},
   "outputs": [],
   "source": [
    "ok=model.predict(validation_padded[0:1])"
   ]
  },
  {
   "cell_type": "code",
   "execution_count": 21,
   "metadata": {},
   "outputs": [],
   "source": [
    "fine=tf.convert_to_tensor(ok)"
   ]
  },
  {
   "cell_type": "code",
   "execution_count": 30,
   "metadata": {},
   "outputs": [],
   "source": [
    "final=tf.argmax(fine,1)"
   ]
  },
  {
   "cell_type": "code",
   "execution_count": 36,
   "metadata": {},
   "outputs": [
    {
     "data": {
      "text/plain": [
       "4"
      ]
     },
     "execution_count": 36,
     "metadata": {},
     "output_type": "execute_result"
    }
   ],
   "source": [
    "tf.get_static_value(final)[0]"
   ]
  },
  {
   "cell_type": "code",
   "execution_count": null,
   "metadata": {},
   "outputs": [],
   "source": []
  }
 ],
 "metadata": {
  "kernelspec": {
   "display_name": "Python 3",
   "language": "python",
   "name": "python3"
  },
  "language_info": {
   "codemirror_mode": {
    "name": "ipython",
    "version": 3
   },
   "file_extension": ".py",
   "mimetype": "text/x-python",
   "name": "python",
   "nbconvert_exporter": "python",
   "pygments_lexer": "ipython3",
   "version": "3.6.10"
  }
 },
 "nbformat": 4,
 "nbformat_minor": 4
}
